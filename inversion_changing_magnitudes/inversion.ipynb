{
 "cells": [
  {
   "cell_type": "markdown",
   "metadata": {},
   "source": [
    "# Perform Inversion for the Greenland traction: \n",
    "## <font color=blue>\"inversion.ipynb\"</font>\n",
    "#### Dec 02, 2022  <font color=red>(v. testing)</font>\n",
    "##### Aryan Jain \n",
    "\n",
    "1. The G-matrix will be loaded from a file created in the previous step\n",
    "2. A Least Square Method will be used to find the best coefficients of the basis functions\n",
    "3. The goal is to find the best linear combination of the basis functions that predicted the data "
   ]
  },
  {
   "cell_type": "code",
   "execution_count": 60,
   "metadata": {},
   "outputs": [],
   "source": [
    "# Import modules\n",
    "import numpy as np\n",
    "import pandas as pd\n",
    "import scipy \n",
    "import sys\n",
    "import os\n",
    "from sklearn import linear_model  \n",
    "import matplotlib.pyplot as plt"
   ]
  },
  {
   "cell_type": "code",
   "execution_count": 63,
   "metadata": {},
   "outputs": [
    {
     "name": "stdout",
     "output_type": "stream",
     "text": [
      "Directory 'inver_results_cm' already exists \n"
     ]
    }
   ],
   "source": [
    "# Create directory where all the results will be saved.\n",
    "parent_dir = os.getcwd()\n",
    "directory = \"inver_results_cm\"\n",
    "path = os.path.join(parent_dir, directory)\n",
    "try:\n",
    "    os.mkdir(path)\n",
    "    print(\"Directory '%s' created successfully\" % directory)\n",
    "except:\n",
    "    print(\"Directory '%s' already exists \" % directory)"
   ]
  },
  {
   "cell_type": "code",
   "execution_count": 61,
   "metadata": {},
   "outputs": [],
   "source": [
    "# CHOOSE THE TYPE OF LSMs\n",
    "\n",
    "inversion_flag = 3\n",
    "# inversion_flag = sys.argv[1]\n",
    "# inversion_flag = float(inversion_flag)\n",
    "\n",
    "# 1 is simple LSM\n",
    "# 2 is Pseudo LSM \n",
    "# 3 is Damped LSM (Tikhonov Regularization Least Squares = Ridge reg.)\n",
    "# 4 is Damped LSM (LASSO Regression using Scikit-learn modules)"
   ]
  },
  {
   "cell_type": "code",
   "execution_count": 62,
   "metadata": {},
   "outputs": [
    {
     "data": {
      "text/plain": [
       "array([1.00000000e-02, 1.09749877e-02, 1.20450354e-02, 1.32194115e-02,\n",
       "       1.45082878e-02, 1.59228279e-02, 1.74752840e-02, 1.91791026e-02,\n",
       "       2.10490414e-02, 2.31012970e-02, 2.53536449e-02, 2.78255940e-02,\n",
       "       3.05385551e-02, 3.35160265e-02, 3.67837977e-02, 4.03701726e-02,\n",
       "       4.43062146e-02, 4.86260158e-02, 5.33669923e-02, 5.85702082e-02,\n",
       "       6.42807312e-02, 7.05480231e-02, 7.74263683e-02, 8.49753436e-02,\n",
       "       9.32603347e-02, 1.02353102e-01, 1.12332403e-01, 1.23284674e-01,\n",
       "       1.35304777e-01, 1.48496826e-01, 1.62975083e-01, 1.78864953e-01,\n",
       "       1.96304065e-01, 2.15443469e-01, 2.36448941e-01, 2.59502421e-01,\n",
       "       2.84803587e-01, 3.12571585e-01, 3.43046929e-01, 3.76493581e-01,\n",
       "       4.13201240e-01, 4.53487851e-01, 4.97702356e-01, 5.46227722e-01,\n",
       "       5.99484250e-01, 6.57933225e-01, 7.22080902e-01, 7.92482898e-01,\n",
       "       8.69749003e-01, 9.54548457e-01, 1.04761575e+00, 1.14975700e+00,\n",
       "       1.26185688e+00, 1.38488637e+00, 1.51991108e+00, 1.66810054e+00,\n",
       "       1.83073828e+00, 2.00923300e+00, 2.20513074e+00, 2.42012826e+00,\n",
       "       2.65608778e+00, 2.91505306e+00, 3.19926714e+00, 3.51119173e+00,\n",
       "       3.85352859e+00, 4.22924287e+00, 4.64158883e+00, 5.09413801e+00,\n",
       "       5.59081018e+00, 6.13590727e+00, 6.73415066e+00, 7.39072203e+00,\n",
       "       8.11130831e+00, 8.90215085e+00, 9.77009957e+00, 1.07226722e+01,\n",
       "       1.17681195e+01, 1.29154967e+01, 1.41747416e+01, 1.55567614e+01,\n",
       "       1.70735265e+01, 1.87381742e+01, 2.05651231e+01, 2.25701972e+01,\n",
       "       2.47707636e+01, 2.71858824e+01, 2.98364724e+01, 3.27454916e+01,\n",
       "       3.59381366e+01, 3.94420606e+01, 4.32876128e+01, 4.75081016e+01,\n",
       "       5.21400829e+01, 5.72236766e+01, 6.28029144e+01, 6.89261210e+01,\n",
       "       7.56463328e+01, 8.30217568e+01, 9.11162756e+01, 1.00000000e+02])"
      ]
     },
     "execution_count": 62,
     "metadata": {},
     "output_type": "execute_result"
    }
   ],
   "source": [
    "# If you choose to run a Damped LSM, you must define the\n",
    "# smoothing parameters (alpha values).\n",
    "smoothing_params = np.logspace(-2,2,100)\n",
    "smoothing_params"
   ]
  },
  {
   "cell_type": "code",
   "execution_count": 64,
   "metadata": {},
   "outputs": [],
   "source": [
    "# Output files\n",
    "outputFILE_model_prefix=\"model_coef_\" # Model Coefficients\n",
    "outputFILE_velocity_prefix=\"vel_pred_\" # Surface Horizontal Velocity Field\n",
    "outputFILE_velocity_InSAR_minus_GPE=\"vel_data.gmt\""
   ]
  },
  {
   "cell_type": "markdown",
   "metadata": {
    "tags": []
   },
   "source": [
    "# `STEP 1:` **BUILD a data vector,  $\\vec{d}$**"
   ]
  },
  {
   "cell_type": "code",
   "execution_count": 49,
   "metadata": {},
   "outputs": [],
   "source": [
    "# Load input files\n",
    "\n",
    "names = ['lon','lat','ve','vn','se','sn','corr']\n",
    "\n",
    "\n",
    "# 1. Velocity (InSAR)\n",
    "input_vel_InSAR = \"vel_obs_m_per_hr.gmt\"  # Interpolated InSAR Velocity [m/hr]\n",
    "df_vel_InSAR = pd.read_csv(input_vel_InSAR,header=None, sep=r'(?:,|\\s+)', comment='#', engine='python')\n",
    "df_vel_InSAR.columns = names\n",
    "\n",
    "\n",
    "# 2. Velocity (GPE)\n",
    "input_vel_GPE = \"vel_gpe.gmt\"  # GPE-associated effective Velocity [m/hr]\n",
    "df_vel_GPE = pd.read_csv(input_vel_GPE,header=None, sep=r'(?:,|\\s+)', comment='#', engine='python')\n",
    "df_vel_GPE.columns = names"
   ]
  },
  {
   "cell_type": "code",
   "execution_count": 50,
   "metadata": {},
   "outputs": [],
   "source": [
    "# 3. data = (Velocity InSAR - Velocity GPE)\n",
    "# BUILD the data vector along with coordinate information.\n",
    "# The x-component values are first and then the y-component values.\n",
    "\n",
    "\n",
    "### Process InSAR velocity \n",
    "\n",
    "df_vel_x_InSAR = df_vel_InSAR.iloc[:,[0,1,2]]  # saved vx data (InSAR)\n",
    "df_vel_y_InSAR = df_vel_InSAR.iloc[:,[0,1,3]]  # saved vn data (InSAR)\n",
    "df_vel_x_InSAR=df_vel_x_InSAR.rename(columns ={'ve': 'data'}) #column name change\n",
    "df_vel_y_InSAR=df_vel_y_InSAR.rename(columns ={'vn': 'data'}) #column name change\n",
    "\n",
    "# !! SORT VALUES !! # lat (ascending) first, and then lon (ascending).\n",
    "# This step is very important: The rows of the data vector, d, must be\n",
    "# corresponding to the rows of the G matrix.\n",
    "# i.e., each row in both d and G must have the same coordinates.\n",
    "df_vel_x_InSAR = df_vel_x_InSAR.sort_values(['lat', 'lon'], ascending=[True, True])\n",
    "df_vel_y_InSAR = df_vel_y_InSAR.sort_values(['lat', 'lon'], ascending=[True, True])\n",
    "\n",
    "# MERGE two columns (n*2) into a column (2n*1)\n",
    "# > ignore_index = True : \n",
    "# >   have one continuous index numbers,\n",
    "# >     ignorning each of the two dfs original indices\n",
    "framesInSAR = [df_vel_x_InSAR,df_vel_y_InSAR]\n",
    "df_data_InSAR_all = pd.concat(framesInSAR,ignore_index=True) # merge the two dataFrames into one\n",
    "\n",
    "# SAVE GNSS velocity separately\n",
    "df_data_InSAR = df_data_InSAR_all.loc[:,['data']]\n",
    "\n",
    "\n",
    "\n",
    "### Process GPE velocity \n",
    "\n",
    "df_vel_x_GPE = df_vel_GPE.iloc[:,[0,1,2]]  # saved vx data (GPE-associated velocity)\n",
    "df_vel_y_GPE = df_vel_GPE.iloc[:,[0,1,3]]  # saved vn data (GPE-associated velocity)\n",
    "df_vel_x_GPE=df_vel_x_GPE.rename(columns ={'ve': 'data'}) #column name change\n",
    "df_vel_y_GPE=df_vel_y_GPE.rename(columns ={'vn': 'data'}) #column name change\n",
    "\n",
    "# !! SORT VALUES !! # lat (ascending) first, and then lon (ascending).\n",
    "# This step is very important: The rows of the data vector, d, must be\n",
    "# corresponding to the rows of the G matrix.\n",
    "# i.e., each row in both d and G must have the same coordinates.\n",
    "df_vel_x_GPE = df_vel_x_GPE.sort_values(['lat', 'lon'], ascending=[True, True])\n",
    "df_vel_y_GPE = df_vel_y_GPE.sort_values(['lat', 'lon'], ascending=[True, True])\n",
    "\n",
    "# MERGE two columns (n*2) into a column (2n*1)\n",
    "# > ignore_index = True : \n",
    "# >   have one continuous index numbers,\n",
    "# >     ignorning each of the two dfs original indices\n",
    "framesGPE = [df_vel_x_GPE,df_vel_y_GPE]\n",
    "df_data_GPE_all = pd.concat(framesGPE,ignore_index=True) # merge the two dataFrames into one\n",
    "\n",
    "# SAVE GNSS velocity separately\n",
    "df_data_GPE = df_data_GPE_all.loc[:,['data']]\n",
    "\n",
    "\n",
    "\n",
    "### Subtraction\n",
    "df_data_total = df_data_InSAR - df_data_GPE\n",
    "\n",
    "### SAVE (velocityInSAR - velocityGPE)\n",
    "df_velo_InSAR_minus_GPE = df_vel_InSAR\n",
    "\n",
    "df_velo_InSAR_minus_GPE['ve'] = df_data_total[:int(len(df_data_total)/2)].reset_index(drop=True)\n",
    "\n",
    "df_velo_InSAR_minus_GPE['vn'] = df_data_total[int(len(df_data_total)/2):].reset_index(drop=True)\n",
    "\n",
    "df_velo_InSAR_minus_GPE.to_csv(outputFILE_velocity_InSAR_minus_GPE, header=None, index=None, sep=' ', float_format='%g')"
   ]
  },
  {
   "cell_type": "markdown",
   "metadata": {},
   "source": [
    "# `STEP 2:` **Load G-Matrix, $\\bar{\\bar{G}}$**"
   ]
  },
  {
   "cell_type": "code",
   "execution_count": 51,
   "metadata": {},
   "outputs": [],
   "source": [
    "Gmatrix_file=\"G_matrix.out\"\n",
    "df_G_final=pd.read_csv(Gmatrix_file, sep = ',')"
   ]
  },
  {
   "cell_type": "code",
   "execution_count": 52,
   "metadata": {},
   "outputs": [],
   "source": [
    "if len(df_data_total)!=len(df_G_final):\n",
    "    print(\"WARNING: Something went wrong!\")"
   ]
  },
  {
   "cell_type": "markdown",
   "metadata": {},
   "source": [
    "<div class=\"alert alert-success\">\n",
    "<b>NOTE: If you don't see WARNING, go ahead and run the inversion. </b> \n",
    "</div>"
   ]
  },
  {
   "cell_type": "markdown",
   "metadata": {},
   "source": [
    "# `STEP 3:` RUN Inversion (LSM)\n",
    "> G-matrix = **df_G_final** \\\n",
    "> data vec = **df_data_total**"
   ]
  },
  {
   "cell_type": "code",
   "execution_count": 53,
   "metadata": {},
   "outputs": [],
   "source": [
    "# # Build a Diagonal Weighting Matrix W.\n",
    "# nTotal=len(df_data_total)\n",
    "\n",
    "# # STD of the data\n",
    "# error = np.ones(nTotal) #replace 1s with std values if you have measurement uncertainties.\n",
    "# errorTotalinv = 1/error\n",
    "# W = np.diag(errorTotalinv)\n",
    "\n",
    "# # convert into a dataframe\n",
    "# dfW = pd.DataFrame(W)\n",
    "\n",
    "# # When calculating predictions, the non-weighted G-matrix is needed. Save it.\n",
    "df_G_final_save = df_G_final\n",
    "\n",
    "# # When calculating the misfit, the non-weighted data is needed. Save it.\n",
    "df_data_total_save = df_data_total\n",
    "\n",
    "# # Multiply the Diagonal Weighting Matrix dfW to the data vector and Gmatrix\n",
    "# df_G_final = dfW @ df_G_final_save\n",
    "# df_data_total = dfW @ df_data_total_save"
   ]
  },
  {
   "cell_type": "markdown",
   "metadata": {},
   "source": [
    "\n",
    "<div class=\"alert alert-warning\">\n",
    "    <div class=\"alert--icon\"> <i class=\"far fa-times-circle\"></i> </div>\n",
    "    <p> The cell block above won't be used for this inversion. </p>\n",
    "    <b> You can modify this cell if you want to incorpolate data uncertainties. </b>\n",
    "</div>"
   ]
  },
  {
   "cell_type": "code",
   "execution_count": 54,
   "metadata": {},
   "outputs": [],
   "source": [
    "# Define some values before you run an inversion\n",
    "\n",
    "nTotal=len(df_data_total)\n",
    "# How Many Basis Functions \n",
    "HowManyBasisFunctions=np.loadtxt(\"geometry_info.txt\", skiprows=1)\n",
    "HowManyCell=int(HowManyBasisFunctions[1])\n",
    "\n",
    "df_G_prime = df_G_final.transpose() \n",
    "\n",
    "# G'G\n",
    "# >Two different ways to compute a matrix multiplication\n",
    "    # >1st method\n",
    "GpG1=df_G_prime.dot(df_G_final) #G'G\n",
    "    # >2nd method\n",
    "GpG2=df_G_prime @ df_G_final #G'G\n",
    "    # >These results are same.\n",
    "    # >Let's take the second one as G'G\n",
    "GpG = GpG2 #GpG is G'G\n",
    "\n",
    "\n",
    "df_vel_save = df_vel_y_InSAR.iloc[:,[0,1]]"
   ]
  },
  {
   "cell_type": "code",
   "execution_count": 58,
   "metadata": {},
   "outputs": [],
   "source": [
    "# Define a saving function\n",
    "\n",
    "def saving_results(df_vel_save, df_data_total_save, df_G_final_save, df_best_model, inversion_flag, path, mult_str, alpha):\n",
    "    \n",
    "    # data prediction\n",
    "    df_data_predicted = df_G_final_save @ df_best_model\n",
    "\n",
    "    # predicted velocity \n",
    "    n_data_predicted = len(df_data_predicted)\n",
    "\n",
    "    #velocity predicted x\n",
    "    df_prediction_x=df_data_predicted.iloc[0:int(n_data_predicted/2)] \n",
    "    df_prediction_x=df_prediction_x.reset_index(drop=True)\n",
    "    #velocity predicted y\n",
    "    df_prediction_y=df_data_predicted.iloc[int(n_data_predicted/2):n_data_predicted] \n",
    "    df_prediction_y=df_prediction_y.reset_index(drop=True)\n",
    "\n",
    "    \n",
    "    df_vel_save['vx'] = df_prediction_x\n",
    "    df_vel_save['vn'] = df_prediction_y\n",
    "    df_vel_save['se'] = np.zeros(int(n_data_predicted/2))\n",
    "    df_vel_save['sn'] = np.zeros(int(n_data_predicted/2))\n",
    "    df_vel_save['corr'] = np.zeros(int(n_data_predicted/2))\n",
    "    \n",
    "    if inversion_flag == 1:\n",
    "        inv_type = \"Simple_LSM_\"\n",
    "    elif inversion_flag == 2:\n",
    "        inv_type = \"Moore_Penrose_\"\n",
    "    elif inversion_flag == 3: \n",
    "        inv_type = \"Ridge_\"\n",
    "        norm_type = 2\n",
    "    elif inversion_flag == 4:\n",
    "        inv_type = \"LASSO_\"\n",
    "        norm_type = 1\n",
    "\n",
    "\n",
    "    if alpha == 0:\n",
    "        df_vel_save.to_csv(path+\"/\"+outputFILE_velocity_prefix+inv_type+\".gmt\", header=None, index=None, sep=' ', float_format='%g')\n",
    "        df_best_model.to_csv(path+\"/\"+outputFILE_model_prefix+inv_type+\".out\", header=None, index=None, float_format='%g')\n",
    "    else:\n",
    "        alpha_str = str(alpha)\n",
    "        df_vel_save.to_csv(path+\"/\"+outputFILE_velocity_prefix+inv_type+alpha_str+\"_\"+mult_str+\".gmt\", header=None, index=None, sep=' ', float_format='%g')\n",
    "        df_best_model.to_csv(path+\"/\"+outputFILE_model_prefix+inv_type+alpha_str+\"_\"+mult_str+\".out\", header=None, index=None, float_format='%g')  \n",
    " \n",
    "\n",
    "    # squared norm2 misfit \n",
    "    df_norm2=(df_data_total_save.to_numpy()-df_data_predicted.to_numpy())**2\n",
    "    misfit_norm2=df_norm2.sum()\n",
    "    \n",
    "    # squared norm2 model \n",
    "    model_norm2 = np.linalg.norm(df_best_model,norm_type)**2\n",
    "    \n",
    "    return misfit_norm2, model_norm2"
   ]
  },
  {
   "cell_type": "code",
   "execution_count": 65,
   "metadata": {},
   "outputs": [
    {
     "name": "stdout",
     "output_type": "stream",
     "text": [
      "Ridge Regression Will Be Performed.\n"
     ]
    }
   ],
   "source": [
    "# Run Inversion\n",
    "\n",
    "###############################\n",
    "## inv(G'G)*G'*d = model(LSM) #\n",
    "###############################\n",
    "\n",
    "\n",
    "if inversion_flag == 1:\n",
    "    #  1st method: np.linalg.inv\n",
    "    print(\"A simple LSM will be performed.\")\n",
    "    df_inv_GpG = pd.DataFrame(np.linalg.inv(GpG.to_numpy()), GpG.columns, GpG.index)\n",
    "    df_best_model=df_inv_GpG@df_G_prime@df_data_total #inversion\n",
    "    \n",
    "    misfit_norm2, model_norm2 = saving_results(df_vel_save, df_data_total_save, df_G_final_save, df_best_model, inversion_flag, path, alpha = 0)\n",
    "    \n",
    "elif inversion_flag == 2:\n",
    "    #  2nd method: np.linalg.pinv (Moore-Penrose inverse (SVD))\n",
    "    print(\"A simple Moore-Penrose LSM will be performed.\")\n",
    "    df_pinv_GpG = pd.DataFrame(np.linalg.pinv(GpG.to_numpy()), GpG.columns, GpG.index)\n",
    "    df_best_model=df_pinv_GpG@df_G_prime@df_data_total #pseudo inversion\n",
    "\n",
    "    misfit_norm2, model_norm2 = saving_results(df_vel_save, df_data_total_save, df_G_final_save, df_best_model, inversion_flag, path, alpha = 0)\n",
    "    \n",
    "    \n",
    "else: \n",
    "    \n",
    "    if inversion_flag == 3:\n",
    "        print(\"Ridge Regression Will Be Performed.\")\n",
    "    if inversion_flag == 4:\n",
    "        print(\"LASSO Regression Will Be Performed.\")\n",
    "        \n",
    "    Ninv = 0\n",
    "    misfit_norm2_list = []\n",
    "    model_norm2_list = []\n",
    "    alpha = 0.1519911082952933\n",
    "\n",
    "    for multiplier in range(100, 90, -1):\n",
    "        # Ninv_total = len(smoothing_params)\n",
    "        # Ninv = Ninv + 1\n",
    "        # print(\"[%3i/%3i] Your smoothing parameter, alpha, is %7.2f.   Inversion is running...\" % (Ninv,Ninv_total,alpha))\n",
    "        \n",
    "        if inversion_flag == 3:       \n",
    "            #  3rd method: Ridge Regression (Tikhonov Regularization)\n",
    "            alp=(alpha**2)*np.ones((HowManyCell*3,))\n",
    "            damping_matrix=np.diag(alp) # (a**2)*I    \n",
    "            GpG_damping = GpG + damping_matrix #(G'G + a*a*I)\n",
    "            GpD=df_G_prime@df_data_total\n",
    "            df_model_damping= np.linalg.solve(GpG_damping,GpD)\n",
    "            df_best_model=pd.DataFrame(df_model_damping[:,0])\n",
    "            df_best_model.index=df_G_final_save.columns.values\n",
    "\n",
    "            df_best_model = df_best_model * (multiplier/100)\n",
    "            mult_str = str((multiplier/100))\n",
    "        \n",
    "            misfit_norm2, model_norm2 = saving_results(df_vel_save, df_data_total_save, df_G_final_save, df_best_model, inversion_flag, path, mult_str, alpha = alpha)\n",
    "            misfit_norm2_list.append(misfit_norm2)\n",
    "            model_norm2_list.append(model_norm2)\n",
    "                \n",
    "            # elif inversion_flag == 4: \n",
    "            #     #  4th method [Testing]: scikit-learn LASSO (L1-norm)\n",
    "                \n",
    "            #     df_pinv_GpG = pd.DataFrame(np.linalg.pinv(GpG.to_numpy()), GpG.columns, GpG.index)\n",
    "            #     df_best_model=df_pinv_GpG@df_G_prime@df_data_total  \n",
    "            #     np_G_final = df_G_final.to_numpy()\n",
    "            #     np_data_total= df_data_total.to_numpy()\n",
    "            #     np_data_total = np.squeeze(np_data_total)\n",
    "                \n",
    "            #     clf = linear_model.Lasso(alpha=alpha)\n",
    "            #     clf.fit(np_G_final, np_data_total)\n",
    "            #     s_L1 = clf.coef_\n",
    "            #     a=s_L1.reshape(len(s_L1),1)\n",
    "            #     df_best_model.loc[:,['data']]=a\n",
    "\n",
    "            #     misfit_norm2, model_norm2 = saving_results(df_vel_save, df_data_total_save, df_G_final_save, df_best_model, inversion_flag, path, alpha = alpha, multiplier)\n",
    "            #     misfit_norm2_list.append(misfit_norm2)\n",
    "            #     model_norm2_list.append(model_norm2)\n",
    "\n",
    "\n",
    "    # for alpha in smoothing_params:\n",
    "    #     Ninv_total = len(smoothing_params)\n",
    "    #     Ninv = Ninv + 1\n",
    "    #     print(\"[%3i/%3i] Your smoothing parameter, alpha, is %7.2f.   Inversion is running...\" % (Ninv,Ninv_total,alpha))\n",
    "        \n",
    "    #     if inversion_flag == 3:       \n",
    "    #         #  3rd method: Ridge Regression (Tikhonov Regularization)\n",
    "            \n",
    "    #         # alp=(alpha**2)*np.ones((HowManyCell*3,))\n",
    "    #         alpha = 0.015922827933410922\n",
    "\n",
    "    #         damping_matrix=np.diag(alp) # (a**2)*I    \n",
    "    #         GpG_damping = GpG + damping_matrix #(G'G + a*a*I)\n",
    "    #         GpD=df_G_prime@df_data_total\n",
    "    #         df_model_damping= np.linalg.solve(GpG_damping,GpD)\n",
    "    #         df_best_model=pd.DataFrame(df_model_damping[:,0])\n",
    "    #         df_best_model.index=df_G_final_save.columns.values\n",
    "        \n",
    "    #         misfit_norm2, model_norm2 = saving_results(df_vel_save, df_data_total_save, df_G_final_save, df_best_model, inversion_flag, path, alpha = alpha, multiplier)\n",
    "    #         misfit_norm2_list.append(misfit_norm2)\n",
    "    #         model_norm2_list.append(model_norm2)\n",
    "            \n",
    "    #     elif inversion_flag == 4: \n",
    "    #         #  4th method [Testing]: scikit-learn LASSO (L1-norm)\n",
    "             \n",
    "    #         df_pinv_GpG = pd.DataFrame(np.linalg.pinv(GpG.to_numpy()), GpG.columns, GpG.index)\n",
    "    #         df_best_model=df_pinv_GpG@df_G_prime@df_data_total  \n",
    "    #         np_G_final = df_G_final.to_numpy()\n",
    "    #         np_data_total= df_data_total.to_numpy()\n",
    "    #         np_data_total = np.squeeze(np_data_total)\n",
    "            \n",
    "    #         clf = linear_model.Lasso(alpha=alpha)\n",
    "    #         clf.fit(np_G_final, np_data_total)\n",
    "    #         s_L1 = clf.coef_\n",
    "    #         a=s_L1.reshape(len(s_L1),1)\n",
    "    #         df_best_model.loc[:,['data']]=a\n",
    "\n",
    "    #         misfit_norm2, model_norm2 = saving_results(df_vel_save, df_data_total_save, df_G_final_save, df_best_model, inversion_flag, path, alpha = alpha)\n",
    "    #         misfit_norm2_list.append(misfit_norm2)\n",
    "    #         model_norm2_list.append(model_norm2)"
   ]
  },
  {
   "cell_type": "code",
   "execution_count": 66,
   "metadata": {},
   "outputs": [],
   "source": [
    "# df_best_ridge = pd.read_csv('./Inversion_results/model_coef_Ridge_0.34760191815419783.out', header=None)\n"
   ]
  },
  {
   "cell_type": "markdown",
   "metadata": {},
   "source": [
    "<div class=\"alert alert-success\">\n",
    "    <b> Inversion is done. Let's plot the trade-off curve (so-called \"L-curve\") </b>\n",
    "</div>"
   ]
  },
  {
   "cell_type": "markdown",
   "metadata": {},
   "source": [
    "# `STEP 4:` Plot a L-curve if a regularized inversion was run."
   ]
  },
  {
   "cell_type": "code",
   "execution_count": 67,
   "metadata": {},
   "outputs": [
    {
     "name": "stdout",
     "output_type": "stream",
     "text": [
      "The best alpha value is 0.064281.\n"
     ]
    }
   ],
   "source": [
    "idx_best=-80\n",
    "best_smoothing = smoothing_params[idx_best]\n",
    "print(\"The best alpha value is %f.\" % best_smoothing)"
   ]
  },
  {
   "cell_type": "code",
   "execution_count": 68,
   "metadata": {},
   "outputs": [
    {
     "data": {
      "text/plain": [
       "Text(0.5, 1.0, 'The trade-off curve')"
      ]
     },
     "execution_count": 68,
     "metadata": {},
     "output_type": "execute_result"
    },
    {
     "data": {
      "image/png": "[encoded data removed]",
      "text/plain": [
       "<Figure size 720x576 with 1 Axes>"
      ]
     },
     "metadata": {
      "needs_background": "light"
     },
     "output_type": "display_data"
    }
   ],
   "source": [
    "fig, ax = plt.subplots(figsize=(10,8))\n",
    "\n",
    "ax.plot(misfit_norm2_list, model_norm2_list, '*', markersize=10, markeredgecolor='black',markerfacecolor='b')\n",
    "ax.set_xscale('log')\n",
    "ax.set_yscale('log')\n",
    "\n",
    "# ax.set_xlim([10**7,10**8.5])\n",
    "# ax.set_ylim([10**6,10**7])\n",
    "\n",
    "\n",
    "ax.grid(True, color='0.5',linestyle='--', which='minor')\n",
    "ax.set_xlabel(r'$\\mathbf{\\vert\\vert Gm-d \\vert\\vert_2^2}$ (DATA)', fontsize=20)\n",
    "ax.set_ylabel(r'$\\mathbf{\\vert\\vert m \\vert\\vert_2^2}$', fontsize=20)\n",
    "ax.tick_params(axis='x', labelsize=12, rotation=45, which='both')\n",
    "ax.tick_params(axis='y', labelsize=12, rotation=45, which='both')\n",
    "\n",
    "\n",
    "ax.set_title(\"The trade-off curve\", fontsize=29)"
   ]
  },
  {
   "cell_type": "code",
   "execution_count": 69,
   "metadata": {},
   "outputs": [
    {
     "ename": "IndexError",
     "evalue": "list index out of range",
     "output_type": "error",
     "traceback": [
      "\u001b[1;31m---------------------------------------------------------------------------\u001b[0m",
      "\u001b[1;31mIndexError\u001b[0m                                Traceback (most recent call last)",
      "\u001b[1;32mc:\\Users\\loadi\\Documents\\GitHub\\IceDeformation\\inversion_changing_magnitudes\\inversion.ipynb Cell 25\u001b[0m in \u001b[0;36m<cell line: 4>\u001b[1;34m()\u001b[0m\n\u001b[0;32m      <a href='vscode-notebook-cell:/c%3A/Users/loadi/Documents/GitHub/IceDeformation/inversion_changing_magnitudes/inversion.ipynb#X32sZmlsZQ%3D%3D?line=0'>1</a>\u001b[0m fig, ax \u001b[39m=\u001b[39m plt\u001b[39m.\u001b[39msubplots(figsize\u001b[39m=\u001b[39m(\u001b[39m20\u001b[39m,\u001b[39m16\u001b[39m))\n\u001b[0;32m      <a href='vscode-notebook-cell:/c%3A/Users/loadi/Documents/GitHub/IceDeformation/inversion_changing_magnitudes/inversion.ipynb#X32sZmlsZQ%3D%3D?line=2'>3</a>\u001b[0m ax\u001b[39m.\u001b[39mplot(misfit_norm2_list, model_norm2_list, \u001b[39m'\u001b[39m\u001b[39m*\u001b[39m\u001b[39m'\u001b[39m, markersize\u001b[39m=\u001b[39m\u001b[39m10\u001b[39m, markeredgecolor\u001b[39m=\u001b[39m\u001b[39m'\u001b[39m\u001b[39mblack\u001b[39m\u001b[39m'\u001b[39m,markerfacecolor\u001b[39m=\u001b[39m\u001b[39m'\u001b[39m\u001b[39mb\u001b[39m\u001b[39m'\u001b[39m)\n\u001b[1;32m----> <a href='vscode-notebook-cell:/c%3A/Users/loadi/Documents/GitHub/IceDeformation/inversion_changing_magnitudes/inversion.ipynb#X32sZmlsZQ%3D%3D?line=3'>4</a>\u001b[0m ax\u001b[39m.\u001b[39mplot(misfit_norm2_list[idx_best], model_norm2_list[idx_best], \u001b[39m'\u001b[39m\u001b[39mo\u001b[39m\u001b[39m'\u001b[39m, markersize\u001b[39m=\u001b[39m\u001b[39m15\u001b[39m, markeredgecolor\u001b[39m=\u001b[39m\u001b[39m'\u001b[39m\u001b[39mred\u001b[39m\u001b[39m'\u001b[39m,markerfacecolor\u001b[39m=\u001b[39m\u001b[39m'\u001b[39m\u001b[39mred\u001b[39m\u001b[39m'\u001b[39m,alpha\u001b[39m=\u001b[39m\u001b[39m0.5\u001b[39m)\n\u001b[0;32m      <a href='vscode-notebook-cell:/c%3A/Users/loadi/Documents/GitHub/IceDeformation/inversion_changing_magnitudes/inversion.ipynb#X32sZmlsZQ%3D%3D?line=5'>6</a>\u001b[0m ax\u001b[39m.\u001b[39mset_xscale(\u001b[39m'\u001b[39m\u001b[39mlog\u001b[39m\u001b[39m'\u001b[39m)\n\u001b[0;32m      <a href='vscode-notebook-cell:/c%3A/Users/loadi/Documents/GitHub/IceDeformation/inversion_changing_magnitudes/inversion.ipynb#X32sZmlsZQ%3D%3D?line=6'>7</a>\u001b[0m ax\u001b[39m.\u001b[39mset_yscale(\u001b[39m'\u001b[39m\u001b[39mlog\u001b[39m\u001b[39m'\u001b[39m)\n",
      "\u001b[1;31mIndexError\u001b[0m: list index out of range"
     ]
    },
    {
     "data": {
      "image/png": "[encoded data removed]",
      "text/plain": [
       "<Figure size 1440x1152 with 1 Axes>"
      ]
     },
     "metadata": {
      "needs_background": "light"
     },
     "output_type": "display_data"
    }
   ],
   "source": [
    "fig, ax = plt.subplots(figsize=(20,16))\n",
    "\n",
    "ax.plot(misfit_norm2_list, model_norm2_list, '*', markersize=10, markeredgecolor='black',markerfacecolor='b')\n",
    "ax.plot(misfit_norm2_list[idx_best], model_norm2_list[idx_best], 'o', markersize=15, markeredgecolor='red',markerfacecolor='red',alpha=0.5)\n",
    "\n",
    "ax.set_xscale('log')\n",
    "ax.set_yscale('log')\n",
    "\n",
    "# ax.set_xlim([10**7,10**8.5])\n",
    "# ax.set_ylim([10**6,10**8])\n",
    "\n",
    "smoothing_params[-17]\n",
    "ax.grid(True, color='0.5',linestyle='--', which='minor')\n",
    "ax.set_xlabel(r'$\\mathbf{\\vert\\vert Gm-d \\vert\\vert_2^2}$ (DATA)', fontsize=20)\n",
    "ax.set_ylabel(r'$\\mathbf{\\vert\\vert m \\vert\\vert_2^2}$', fontsize=20)\n",
    "ax.tick_params(axis='x', labelsize=12, rotation=45, which='both')\n",
    "ax.tick_params(axis='y', labelsize=12, rotation=45, which='both')\n",
    "\n",
    "\n",
    "ax.set_title(\"The trade-off curve\", fontsize=29)"
   ]
  },
  {
   "cell_type": "code",
   "execution_count": null,
   "metadata": {},
   "outputs": [
    {
     "data": {
      "text/plain": [
       "Text(0.5, 0, 'Basis Functions')"
      ]
     },
     "execution_count": 27,
     "metadata": {},
     "output_type": "execute_result"
    },
    {
     "data": {
      "image/png": "[encoded data removed]",
      "text/plain": [
       "<Figure size 1080x720 with 2 Axes>"
      ]
     },
     "metadata": {
      "needs_background": "light"
     },
     "output_type": "display_data"
    }
   ],
   "source": [
    "#LASSO - 0.064281.\n",
    "#Ridge - 0.347602.\n",
    "\n",
    "df_LASSO = pd.read_csv('./Inversion_results_New\\model_coef_LASSO_0.3831186849557285.out', header=None)\n",
    "df_ridge = pd.read_csv('./Inversion_results_nm\\model_coef_Ridge_0.015922827933410922.out', header=None)\n",
    "\n",
    "# print(df)\n",
    "# inversion_gl_new_new\\Inversion_results\\model_coef_LASSO_6.46167078746697.out\n",
    "# inversion_changing_magnitudes\\Inversion_results_New\\model_coef_LASSO_0.3831186849557285.out\n",
    "fig, (ax1, ax2) = plt.subplots(2, 1, figsize=(15,10))\n",
    "ax1.axhline(y=0, color='r', linestyle='-')\n",
    "ax1.plot(df_LASSO, 'o')\n",
    "ax1.set_ylabel(\"Model Coefficents LASSO\")\n",
    "ax1.set_xlabel(\"Basis Functions\")\n",
    "ax2.axhline(y=0, color='r', linestyle='-')\n",
    "ax2.plot(df_ridge, 'o')\n",
    "ax2.set_ylabel(\"Model Coefficents Ridge\")\n",
    "ax2.set_xlabel(\"Basis Functions\")\n",
    "\n",
    "# print()"
   ]
  },
  {
   "cell_type": "code",
   "execution_count": null,
   "metadata": {},
   "outputs": [
    {
     "name": "stdout",
     "output_type": "stream",
     "text": [
      "             0\n",
      "0     192.2020\n",
      "1     261.4800\n",
      "2     -49.8322\n",
      "3     -41.7735\n",
      "4     -79.1736\n",
      "...        ...\n",
      "2995   56.5135\n",
      "2996  -78.4853\n",
      "2997   57.7207\n",
      "2998  -70.6984\n",
      "2999  209.6860\n",
      "\n",
      "[3000 rows x 1 columns]\n"
     ]
    }
   ],
   "source": [
    "print(df_ridge)"
   ]
  },
  {
   "cell_type": "code",
   "execution_count": null,
   "metadata": {},
   "outputs": [
    {
     "name": "stdout",
     "output_type": "stream",
     "text": [
      "               0\n",
      "0     188.357960\n",
      "1     256.250400\n",
      "2     -48.835556\n",
      "3     -40.938030\n",
      "4     -77.590128\n",
      "...          ...\n",
      "2995   55.383230\n",
      "2996  -76.915594\n",
      "2997   56.566286\n",
      "2998  -69.284432\n",
      "2999  205.492280\n",
      "\n",
      "[3000 rows x 1 columns]\n"
     ]
    }
   ],
   "source": [
    "df_ridge_scale = df_ridge * .98\n",
    "print(df_ridge_scale)"
   ]
  },
  {
   "cell_type": "code",
   "execution_count": null,
   "metadata": {},
   "outputs": [],
   "source": [
    "for multiplier in range(100, 90, -1):\n",
    "    df_ridge_new = df_ridge * (multiplier/100)\n",
    "    df_ridge_new.to_csv(\"./inversion_results_ridge_changing_magnitudes/model_coef_Ridge_0.015922827933410922_\"+str(multiplier/100)+\".out\", header=None, index=None, float_format='%g')"
   ]
  },
  {
   "cell_type": "code",
   "execution_count": null,
   "metadata": {},
   "outputs": [
    {
     "name": "stdout",
     "output_type": "stream",
     "text": [
      "             0\n",
      "0     174.9040\n",
      "1     237.9470\n",
      "2     -45.3473\n",
      "3     -38.0139\n",
      "4     -72.0480\n",
      "...        ...\n",
      "2995   51.4273\n",
      "2996  -71.4216\n",
      "2997   52.5258\n",
      "2998  -64.3355\n",
      "2999  190.8140\n",
      "\n",
      "[3000 rows x 1 columns]\n",
      "             0\n",
      "0     192.2020\n",
      "1     261.4800\n",
      "2     -49.8322\n",
      "3     -41.7735\n",
      "4     -79.1736\n",
      "...        ...\n",
      "2995   56.5135\n",
      "2996  -78.4853\n",
      "2997   57.7207\n",
      "2998  -70.6984\n",
      "2999  209.6860\n",
      "\n",
      "[3000 rows x 1 columns]\n"
     ]
    }
   ],
   "source": [
    "df_ridge_new = pd.read_csv('./inversion_results_ridge_changing_magnitudes\\model_coef_Ridge_0.015922827933410922_0.91.out', header=None)\n",
    "print(df_ridge_new)\n",
    "print(df_ridge)"
   ]
  }
 ],
 "metadata": {
  "kernelspec": {
   "display_name": "Python 3.10.5 ('pygmt')",
   "language": "python",
   "name": "python3"
  },
  "language_info": {
   "codemirror_mode": {
    "name": "ipython",
    "version": 3
   },
   "file_extension": ".py",
   "mimetype": "text/x-python",
   "name": "python",
   "nbconvert_exporter": "python",
   "pygments_lexer": "ipython3",
   "version": "3.10.5"
  },
  "vscode": {
   "interpreter": {
    "hash": "f18ea9b510a311e54183553013794b864ebc712ddd78fbd1b6a1b84d0d294a58"
   }
  }
 },
 "nbformat": 4,
 "nbformat_minor": 4
}
