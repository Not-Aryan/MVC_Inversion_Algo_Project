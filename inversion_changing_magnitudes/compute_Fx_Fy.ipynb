{
 "cells": [
  {
   "cell_type": "markdown",
   "metadata": {},
   "source": [
    "# Compute tractions using the results from the Greenland traction inversion: \n",
    "## <font color=blue>\"compute_Fx_Fy.ipynb\"</font>\n",
    "#### Jul 25, 2022  <font color=red>(v. testing)</font>\n",
    "##### Jeonghyeop Kim (jeonghyeop.kim@gmail.com)\n",
    "\n",
    "\n",
    "1. Using the equations (1) and (2) in Finzel et al. (2015, GRL), this code computes Basal Tractions"
   ]
  },
  {
   "cell_type": "code",
   "execution_count": 1,
   "metadata": {},
   "outputs": [],
   "source": [
    "########Import modules\n",
    "import numpy as np\n",
    "import pandas as pd"
   ]
  },
  {
   "cell_type": "code",
   "execution_count": 2,
   "metadata": {},
   "outputs": [],
   "source": [
    "input_x1=\"grad_x_sig_xx_pred.dat\"\n",
    "input_x2=\"grad_y_sig_xy_cosy_cosy_pred.dat\"\n",
    "input_x3=\"grad_x_tau_0_pred.dat\"\n",
    "\n",
    "input_y1=\"grad_x_sig_xy_pred.dat\"\n",
    "input_y2=\"grad_y_sig_xx_cosy_cosy_pred.dat\"\n",
    "input_y3=\"grad_y_tau_0_pred.dat\"\n",
    "\n",
    "\n",
    "sample = np.loadtxt(input_x1)\n",
    "lon=sample[:,0]\n",
    "lat=sample[:,1]\n",
    "zero_vector = np.zeros((len(lon),))\n",
    "grad_x_sig_xx = sample[:,2]\n",
    "\n",
    "\n",
    "sample = np.loadtxt(input_x2)\n",
    "grad_y_sig_xy_cosy_cosy = sample[:,2]\n",
    "\n",
    "\n",
    "sample = np.loadtxt(input_x3)\n",
    "grad_x_tau_0 = sample[:,2]\n",
    "\n",
    "\n",
    "\n",
    "\n",
    "sample = np.loadtxt(input_y1)\n",
    "grad_x_sig_xy = sample[:,2]\n",
    "\n",
    "\n",
    "sample = np.loadtxt(input_y2)\n",
    "grad_y_sig_xx_cosy_cosy = sample[:,2]\n",
    "\n",
    "\n",
    "sample = np.loadtxt(input_y3)\n",
    "grad_y_tau_0 = sample[:,2]"
   ]
  },
  {
   "cell_type": "code",
   "execution_count": 3,
   "metadata": {},
   "outputs": [],
   "source": [
    "cosTheta = np.cos(lat*np.pi/180)\n",
    "cosTheta_sq = np.cos(lat*np.pi/180)**2"
   ]
  },
  {
   "cell_type": "code",
   "execution_count": 4,
   "metadata": {},
   "outputs": [],
   "source": [
    "Fx = -1/cosTheta*grad_x_sig_xx -1/cosTheta_sq*grad_y_sig_xy_cosy_cosy -1/cosTheta*grad_x_tau_0\n",
    "Fy = -1/cosTheta*grad_x_sig_xy +1/cosTheta_sq*grad_y_sig_xx_cosy_cosy - grad_y_tau_0\n"
   ]
  },
  {
   "cell_type": "code",
   "execution_count": 5,
   "metadata": {},
   "outputs": [],
   "source": [
    "### dictionary for gmt file\n",
    "dict_tractions_pred = {'lon': lon, 'lat': lat, 'Fx': Fx, 'Fy': Fy, 'stdFx': zero_vector, 'stdFy': zero_vector, 'corr_xy': zero_vector}\n",
    "\n",
    "\n",
    "### dict to df \n",
    "df_tractions_pred = pd.DataFrame(dict_tractions_pred)\n",
    "\n",
    "\n",
    "### save df\n",
    "df_tractions_pred.to_csv(\"Traction.gmt\", header=None, index=None, sep=' ')"
   ]
  },
  {
   "cell_type": "code",
   "execution_count": null,
   "metadata": {},
   "outputs": [],
   "source": [
    "#after generating traction.gmt apply land check function to gmt\n",
    "#run image_traction.sh with new input file\n",
    "#should plot "
   ]
  }
 ],
 "metadata": {
  "kernelspec": {
   "display_name": "Python 3.10.5 ('pygmt')",
   "language": "python",
   "name": "python3"
  },
  "language_info": {
   "codemirror_mode": {
    "name": "ipython",
    "version": 3
   },
   "file_extension": ".py",
   "mimetype": "text/x-python",
   "name": "python",
   "nbconvert_exporter": "python",
   "pygments_lexer": "ipython3",
   "version": "3.10.5"
  },
  "vscode": {
   "interpreter": {
    "hash": "f18ea9b510a311e54183553013794b864ebc712ddd78fbd1b6a1b84d0d294a58"
   }
  }
 },
 "nbformat": 4,
 "nbformat_minor": 4
}
